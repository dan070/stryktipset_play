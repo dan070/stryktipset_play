{
 "cells": [
  {
   "cell_type": "code",
   "execution_count": null,
   "id": "cd039a4e-4786-4012-846a-9bcbcadaf561",
   "metadata": {},
   "outputs": [],
   "source": [
    "# Starta med covering sets\n",
    "# vi börjar enkelt med 5 matcher\n",
    "# Eftersom vi tänker oss att vi delar in grupper av matcher\n",
    "# Speciellt om vi är osäkra på utfallet för vissa, då kanske vi vill garantera"
   ]
  },
  {
   "cell_type": "code",
   "execution_count": 1,
   "id": "1c8d2556-6ad7-43e4-8201-5a3e6809b577",
   "metadata": {},
   "outputs": [],
   "source": [
    "import itertools\n",
    "\n"
   ]
  },
  {
   "cell_type": "code",
   "execution_count": 62,
   "id": "7a1a76fc-d64d-42b9-9184-c7ae8b953107",
   "metadata": {},
   "outputs": [],
   "source": [
    "#----------------------------------------------------\n",
    "# Utvärdera hur stor chans vi har att vinna!\n",
    "#----------------------------------------------------\n",
    "# Som om varje enskilt utfall vore lika sannolikt...\n",
    "# \n",
    "# Räkna hur många i all_combinations som får korrekt mha covering set...\n",
    "# \n",
    "\n",
    "import itertools\n",
    "from collections import Counter\n",
    "\n",
    "def analyze_covering_set(covering_set, all_combinations):\n",
    "    correct_counts = Counter()\n",
    "\n",
    "    for combo in all_combinations:\n",
    "        max_correct = 0\n",
    "        for ticket in covering_set:\n",
    "            correct = sum(a == b for a, b in zip(ticket, combo))\n",
    "            max_correct = max(max_correct, correct)\n",
    "        correct_counts[max_correct] += 1\n",
    "\n",
    "    result = correct_counts\n",
    "    for correct, count in sorted(result.items()):\n",
    "        print(f\"Combinations with {correct} correct: {count} {round(100*count/len(all_combinations), 2)}% \")\n",
    "\n",
    "    return \"Finished.\"\n",
    "\n",
    "# Example usage\n",
    "# covering_set = [\n",
    "#     ('1', '1', '1', '1', '1'),\n",
    "#     ('X', 'X', 'X', 'X', 'X'),\n",
    "#     ('2', '2', '2', '2', '2'),\n",
    "#     ('1', '1', '1', 'X', '2'),\n",
    "#     ('X', 'X', '1', '2', '2')\n",
    "# ]\n",
    "# Vi använder covering_set från ovan istället!\n",
    "\n",
    "# Generera alla kombinationer möjliga på 5 matcher\n",
    "## all_combinations = list(itertools.product('1X2', repeat=5))\n",
    "# Använd all combinations från ovan!\n",
    "\n",
    "#result = analyze_covering_set(covering_set, all_combinations)\n",
    "\n",
    "# Display the results\n",
    "#for correct, count in sorted(result.items()):\n",
    "#    print(f\"Combinations with {correct} correct: {count} {round(100*count/len(all_combinations), 2)}% \")\n"
   ]
  },
  {
   "cell_type": "code",
   "execution_count": 60,
   "id": "3ff07af8-7c28-4588-9901-3cf6b68fdbda",
   "metadata": {},
   "outputs": [],
   "source": [
    "# Fall nummer 1 : Det helt naiva sättet - \n",
    "# Vi räknar ut hur många av M matcher vi får 4 rätt på.\n",
    "\n",
    "covering_set = []\n",
    "all_combinations = list(itertools.product('1X2', repeat=5))\n",
    "\n",
    "covered_combinations = set()\n",
    "\n",
    "while len(covered_combinations) < len(all_combinations):\n",
    "    best_ticket = None\n",
    "    max_new_covered = 0\n",
    "    \n",
    "    # Generate a candidate ticket\n",
    "    for candidate in all_combinations:\n",
    "        new_covered = sum(1 for combo in all_combinations \n",
    "                          if combo not in covered_combinations \n",
    "                          and sum(a == b for a, b in zip(candidate, combo)) >= 4)\n",
    "        \n",
    "        if new_covered > max_new_covered:\n",
    "            max_new_covered = new_covered\n",
    "            best_ticket = candidate\n",
    "    \n",
    "    if best_ticket:\n",
    "        covering_set.append(best_ticket)\n",
    "        for combo in all_combinations:\n",
    "            if sum(a == b for a, b in zip(best_ticket, combo)) >= 4:\n",
    "                covered_combinations.add(combo)\n"
   ]
  },
  {
   "cell_type": "code",
   "execution_count": 61,
   "id": "aa6c7c65-4066-434c-9059-33806bf969f5",
   "metadata": {},
   "outputs": [],
   "source": [
    "# Utvärdera"
   ]
  },
  {
   "cell_type": "code",
   "execution_count": 63,
   "id": "7e393c0f-f4cb-4776-99f0-7ee95df421fe",
   "metadata": {},
   "outputs": [
    {
     "name": "stdout",
     "output_type": "stream",
     "text": [
      "Combinations with 4 correct: 212 87.24% \n",
      "Combinations with 5 correct: 31 12.76% \n"
     ]
    },
    {
     "data": {
      "text/plain": [
       "'Finished.'"
      ]
     },
     "execution_count": 63,
     "metadata": {},
     "output_type": "execute_result"
    }
   ],
   "source": [
    "analyze_covering_set(covering_set, all_combinations)"
   ]
  },
  {
   "cell_type": "code",
   "execution_count": null,
   "id": "d86a21bc-620a-414a-a796-47225b332312",
   "metadata": {},
   "outputs": [],
   "source": [
    "# Om vi har vissa utfall omöjliga så måste vi berätta det"
   ]
  },
  {
   "cell_type": "code",
   "execution_count": 64,
   "id": "bee2d44d-2306-47cf-8d1d-d18f2b001daf",
   "metadata": {},
   "outputs": [
    {
     "name": "stdout",
     "output_type": "stream",
     "text": [
      "Number of tickets in covering set: 118\n",
      "('1', '1', '1', '1', '1', '1', '1')\n",
      "('1', '1', '1', '1', 'X', 'X', 'X')\n",
      "('1', '1', '1', 'X', '1', '2', 'X')\n",
      "('1', '1', '1', 'X', '2', 'X', '1')\n",
      "('1', '1', '1', '2', 'X', '2', '1')\n",
      "Combinations with 6 correct: 854 87.86% \n",
      "Combinations with 7 correct: 118 12.14% \n"
     ]
    },
    {
     "data": {
      "text/plain": [
       "'Finished.'"
      ]
     },
     "execution_count": 64,
     "metadata": {},
     "output_type": "execute_result"
    }
   ],
   "source": [
    "# Fall nummer 2 : ta bort vissa utfall från några av matcherna.\n",
    "# Generera rader som täcker in n av M möjliga.\n",
    "# constrained = färre möjliga rader tas in från början.\n",
    "# \n",
    "\n",
    "import itertools\n",
    "\n",
    "def generate_constrained_combinations(game_constraints):\n",
    "    return list(itertools.product(*[constraints for constraints in game_constraints]))\n",
    "\n",
    "def generate_covering_set(game_constraints, guarantee):\n",
    "    all_combinations = generate_constrained_combinations(game_constraints)\n",
    "    covering_set = []\n",
    "    covered_combinations = set()\n",
    "\n",
    "    while len(covered_combinations) < len(all_combinations):\n",
    "        best_ticket = None\n",
    "        max_new_covered = 0\n",
    "        # new_covered --> antal träffar som en ticket har som bäst mot alla kombinationer... men minus redan täckta kombinationer.\n",
    "        for candidate in all_combinations:\n",
    "            new_covered = sum(1 for combo in all_combinations \n",
    "                              if combo not in covered_combinations \n",
    "                              and sum(a == b for a, b in zip(candidate, combo)) >= guarantee)\n",
    "            \n",
    "            if new_covered > max_new_covered:\n",
    "                max_new_covered = new_covered\n",
    "                best_ticket = candidate\n",
    "\n",
    "        # Behåll alla tickets som täcker tillräckligt mycket - dessa behöver vi inte jämföra mot igen...\n",
    "        if best_ticket:\n",
    "            covering_set.append(best_ticket)\n",
    "            for combo in all_combinations:\n",
    "                if sum(a == b for a, b in zip(best_ticket, combo)) >= guarantee:\n",
    "                    covered_combinations.add(combo)\n",
    "        else:\n",
    "            break  # No more tickets can improve coverage\n",
    "\n",
    "    return covering_set\n",
    "\n",
    "# Example usage\n",
    "game_constraints = [\n",
    "    ('1', '2'),  # Game 1: Only 1 and 2 are possible\n",
    "    ('1', 'X', '2'),  # Game 2: All outcomes possible\n",
    "    ('1', 'X', '2'),  # Game 3: All outcomes possible\n",
    "    ('1', 'X', '2'),  # Game 4: All outcomes possible\n",
    "    ('1', 'X', '2'),  # Game 4: All outcomes possible\n",
    "    ('1', 'X', '2'),  # Game 4: All outcomes possible\n",
    "    ('1', 'X')   #\n",
    "]\n",
    "all_combinations =  generate_constrained_combinations(game_constraints)\n",
    "\n",
    "\n",
    "\n",
    "covering_set = generate_covering_set(game_constraints, 6)\n",
    "print(f\"Number of tickets in covering set: {len(covering_set)}\")\n",
    "for ticket in covering_set[:5]:\n",
    "    print(ticket)\n",
    "\n",
    "analyze_covering_set(covering_set, all_combinations)\n"
   ]
  },
  {
   "cell_type": "code",
   "execution_count": 56,
   "id": "1f1c3d77-b3b4-46bb-b255-693da42482ee",
   "metadata": {},
   "outputs": [],
   "source": [
    "all_combinations =  generate_constrained_combinations(game_constraints)\n"
   ]
  },
  {
   "cell_type": "code",
   "execution_count": 58,
   "id": "e3d54c9c-c4b4-40dc-9fe4-06c668179721",
   "metadata": {},
   "outputs": [
    {
     "data": {
      "text/plain": [
       "972"
      ]
     },
     "execution_count": 58,
     "metadata": {},
     "output_type": "execute_result"
    }
   ],
   "source": [
    "len(all_combinations)"
   ]
  },
  {
   "cell_type": "code",
   "execution_count": 2,
   "id": "bb566707-892b-44a4-b491-019427938e58",
   "metadata": {
    "jp-MarkdownHeadingCollapsed": true
   },
   "outputs": [
    {
     "name": "stdout",
     "output_type": "stream",
     "text": [
      "243\n"
     ]
    }
   ],
   "source": [
    "print(123+15+87+18)"
   ]
  },
  {
   "cell_type": "code",
   "execution_count": 39,
   "id": "e02bc0a3-8996-450f-b98b-f42efdd73cfe",
   "metadata": {},
   "outputs": [
    {
     "name": "stdout",
     "output_type": "stream",
     "text": [
      "('X', 'X', '1', '1', '1', '2', '1', '2', 'X', '1', 'X', 'X', '1')\n"
     ]
    }
   ],
   "source": [
    "import random\n",
    "from collections import Counter\n",
    "\n",
    "# Vi matar in odds, men behöver konvertera till sannolikheter.\n",
    "def convert_odds_to_probabilities(odds):\n",
    "    probabilities = []\n",
    "    for match in odds:\n",
    "        total = sum(1/odd for odd in match)\n",
    "        probabilities.append(tuple((1/odd)/total for odd in match))\n",
    "    return probabilities\n",
    "\n",
    "# Function to generate outcome combinations based on individual match probabilities.\n",
    "def generate_probable_outcomes(match_probabilities, num_samples=10000):\n",
    "    # Each element in match_probabilities is a tuple specifying weights for ['1', 'X', '2']\n",
    "    outcomes = []\n",
    "    num_matches = len(match_probabilities)\n",
    "    for _ in range(num_samples):\n",
    "        outcome = tuple(random.choices(['1', 'X', '2'], weights=match_probabilities[i], k=1)[0]\n",
    "                        for i in range(num_matches))\n",
    "        outcomes.append(outcome)\n",
    "    # Optionally deduplicate if many repeated outcomes are expected\n",
    "    return list(set(outcomes))\n",
    "\n",
    "# Greedy algorithm for building the covering set.\n",
    "def generate_covering_set(probable_combinations, guarantee):\n",
    "    covering_set = []\n",
    "    covered_combinations = set()\n",
    "    \n",
    "    # Continue until every outcome in the probable sample is covered.\n",
    "    while len(covered_combinations) < len(probable_combinations):\n",
    "        best_ticket = None\n",
    "        max_new_covered = 0\n",
    "        \n",
    "        # Evaluate each candidate ticket from the probable outcomes\n",
    "        for candidate in probable_combinations:\n",
    "            new_covered = sum(\n",
    "                1 for outcome in probable_combinations\n",
    "                if outcome not in covered_combinations and sum(a == b for a, b in zip(candidate, outcome)) >= guarantee\n",
    "            )\n",
    "            \n",
    "            if new_covered > max_new_covered:\n",
    "                max_new_covered = new_covered\n",
    "                best_ticket = candidate\n",
    "        \n",
    "        if best_ticket:\n",
    "            covering_set.append(best_ticket)\n",
    "            for outcome in probable_combinations:\n",
    "                if sum(a == b for a, b in zip(best_ticket, outcome)) >= guarantee:\n",
    "                    covered_combinations.add(outcome)\n",
    "        else:\n",
    "            break  # No candidate can add new coverage; exit loop.\n",
    "    return covering_set\n",
    "\n",
    "\n",
    "# Utvärdera om dom genererade outcomes, faktiskt innehåller sant utfall\n",
    "def count_true_outcome_matches(true_tuple, generated_list):\n",
    "    return sum(1 for generated_tuple in generated_list if generated_tuple == true_tuple)\n",
    "\n",
    "# Example usage:\n",
    "# Assume each match has probabilities. For example, for 15 matches, you may have:\n",
    "# Each tuple corresponds to the weights for outcomes '1', 'X', '2' respectively.\n",
    "\n",
    "# Vi tar lördag 15/2, 2025 , vecka 7\n",
    "match_odds = [\n",
    "    ( 1.96, 3.14, 4.46  ), # Crystal Palace - Everton\n",
    "    (2.04, 3.94, 3.25  ),  # Man City  - Newcastle\n",
    "    (1.41, 4.75, 7.09  ), # Aston Villa - Ipswich\n",
    "    (2.14, 3.36, 3.46   ),  # Fulham - Nottingham\n",
    "    (2.35, 3.59, 2.88   ), # West Ham - Brentford\n",
    "    (5.86 , 4.51 , 1.50 ), # Southampton - Bournemouth\n",
    "    (1.83 , 3.56 , 4.33 ), # Blackburn - Plymouth\n",
    "    ( 2.42, 3.34 , 2.87 ), # Hull - Norwich\n",
    "    (2.80 , 3.21 , 2.55 ), # Luton - Sheffield U https://www.oddsportal.com/football/england/premier-league/west-ham-brentford-CMnhLYoL/\n",
    "    ( 1.59, 4.04 , 5.29 ), # Middlesbrough - Watford\n",
    "    ( 2.78, 2.96 , 2.78 ), # Millwall - W.B.A.\n",
    "    ( 2.32, 3.34 , 3.04 ), # Sheffield Wednesday - Coventry\n",
    "    ( 2.39, 3.28 , 2.98 ), # Stoke - Swansea    \n",
    "]\n",
    "\n",
    "\n",
    "match_probabilities = convert_odds_to_probabilities(match_odds)\n",
    "## print(match_probabilities[0])\n",
    "\n",
    "# Generate the 10,000 most probable outcomes.\n",
    "probable_combinations = generate_probable_outcomes(match_probabilities, num_samples=10)\n",
    "print(probable_combinations[0])"
   ]
  },
  {
   "cell_type": "code",
   "execution_count": 40,
   "id": "63952f84-829f-4772-b6be-aeec063e4847",
   "metadata": {},
   "outputs": [
    {
     "name": "stdout",
     "output_type": "stream",
     "text": [
      "1. X X 1 1 1 2 1 2 X 1 X X 1\n",
      "\n",
      "2. X X 1 X X 2 1 1 2 1 1 2 2\n",
      "\n",
      "3. 1 1 1 X X 1 X X 2 1 1 1 1\n",
      "\n",
      "4. 2 1 1 1 1 2 1 1 2 2 2 X 2\n",
      "\n",
      "5. X 2 1 2 2 2 1 X X 1 X 1 X\n",
      "\n",
      "6. 2 1 X 1 X 2 X 2 X 2 1 1 1\n",
      "\n",
      "7. 2 2 1 2 2 2 X 1 X 1 X X X\n",
      "\n",
      "8. 1 2 X X X 2 1 1 2 2 2 1 2\n",
      "\n",
      "9. X 2 X 1 1 X X X 2 X 1 X X\n",
      "\n",
      "10. 1 2 1 2 2 2 1 X 2 X 2 X X\n",
      "\n"
     ]
    }
   ],
   "source": [
    "def print_tuple_list(tuple_list, items_per_line=1):\n",
    "    for i, t in enumerate(tuple_list):\n",
    "        print(f\"{i+1}. {' '.join(t)}\")\n",
    "        if (i + 1) % items_per_line == 0:\n",
    "            print()\n",
    "\n",
    "print_tuple_list(probable_combinations)"
   ]
  },
  {
   "cell_type": "code",
   "execution_count": 35,
   "id": "6c85bb79-b11f-4cb5-8299-de7e700d2a92",
   "metadata": {},
   "outputs": [
    {
     "name": "stdout",
     "output_type": "stream",
     "text": [
      "0\n"
     ]
    },
    {
     "ename": "SyntaxError",
     "evalue": "'break' outside loop (320387668.py, line 6)",
     "output_type": "error",
     "traceback": [
      "\u001b[0;36m  Cell \u001b[0;32mIn[35], line 6\u001b[0;36m\u001b[0m\n\u001b[0;31m    break\u001b[0m\n\u001b[0m    ^\u001b[0m\n\u001b[0;31mSyntaxError\u001b[0m\u001b[0;31m:\u001b[0m 'break' outside loop\n"
     ]
    }
   ],
   "source": [
    "true_outcome = ('2', '1', 'X', '1', '2', '2', '1', 'X', '2', '2', 'X', '2', '1')\n",
    "# true_outcome = probable_combinations[0] ### fuska och sätt en befintlig genererad rad till den sanna raden\n",
    "\n",
    "true_generated_combos = count_true_outcome_matches(true_outcome, probable_combinations)\n",
    "print(true_generated_combos)\n",
    "break\n",
    "# Build the covering set with a guarantee of, say, 13 correct predictions.\n",
    "covering_set = generate_covering_set(probable_combinations, guarantee=13)\n",
    "\n",
    "print(\"Number of tickets in covering set:\", len(covering_set))\n",
    "# Optionally, analyze how well the covering set works against the generated probable outcomes."
   ]
  },
  {
   "cell_type": "code",
   "execution_count": 24,
   "id": "196e76d6-9faf-4af1-a2d7-48636e25a30f",
   "metadata": {},
   "outputs": [
    {
     "name": "stdout",
     "output_type": "stream",
     "text": [
      "False\n"
     ]
    }
   ],
   "source": [
    "print(probable_combinations[0] == true_outcome)"
   ]
  },
  {
   "cell_type": "code",
   "execution_count": 30,
   "id": "2bef71ec-bee3-4bc0-90cf-1d191352bac2",
   "metadata": {},
   "outputs": [
    {
     "name": "stdout",
     "output_type": "stream",
     "text": [
      "('1', '1', 'X', '1', 'X', '2', '1', '1', 'X', 'X', '1', '2', '2')\n"
     ]
    }
   ],
   "source": [
    "print(probable_combinations[4])"
   ]
  },
  {
   "cell_type": "code",
   "execution_count": 26,
   "id": "d8ec75e6-aefc-4203-87e0-9d2c6ad9c76c",
   "metadata": {},
   "outputs": [
    {
     "name": "stdout",
     "output_type": "stream",
     "text": [
      "10\n"
     ]
    }
   ],
   "source": [
    "print(len(probable_combinations))"
   ]
  },
  {
   "cell_type": "code",
   "execution_count": 27,
   "id": "fd1448e0-f0fa-46dd-a7a5-79089a9a182a",
   "metadata": {},
   "outputs": [
    {
     "data": {
      "text/plain": [
       "False"
      ]
     },
     "execution_count": 27,
     "metadata": {},
     "output_type": "execute_result"
    }
   ],
   "source": [
    "probable_combinations == true_outcome"
   ]
  }
 ],
 "metadata": {
  "kernelspec": {
   "display_name": "Python 3 (ipykernel)",
   "language": "python",
   "name": "python3"
  },
  "language_info": {
   "codemirror_mode": {
    "name": "ipython",
    "version": 3
   },
   "file_extension": ".py",
   "mimetype": "text/x-python",
   "name": "python",
   "nbconvert_exporter": "python",
   "pygments_lexer": "ipython3",
   "version": "3.9.21"
  }
 },
 "nbformat": 4,
 "nbformat_minor": 5
}
