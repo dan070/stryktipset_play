{
 "cells": [
  {
   "cell_type": "code",
   "execution_count": null,
   "id": "cd039a4e-4786-4012-846a-9bcbcadaf561",
   "metadata": {},
   "outputs": [],
   "source": [
    "# Starta med covering sets\n",
    "# vi börjar enkelt med 5 matcher\n",
    "# Eftersom vi tänker oss att vi delar in grupper av matcher\n",
    "# Speciellt om vi är osäkra på utfallet för vissa, då kanske vi vill garantera"
   ]
  },
  {
   "cell_type": "code",
   "execution_count": 51,
   "id": "1c8d2556-6ad7-43e4-8201-5a3e6809b577",
   "metadata": {},
   "outputs": [],
   "source": [
    "import itertools\n",
    "import datetime\n"
   ]
  },
  {
   "cell_type": "code",
   "execution_count": 62,
   "id": "7a1a76fc-d64d-42b9-9184-c7ae8b953107",
   "metadata": {},
   "outputs": [],
   "source": [
    "#----------------------------------------------------\n",
    "# Utvärdera hur stor chans vi har att vinna!\n",
    "#----------------------------------------------------\n",
    "# Som om varje enskilt utfall vore lika sannolikt...\n",
    "# \n",
    "# Räkna hur många i all_combinations som får korrekt mha covering set...\n",
    "# \n",
    "\n",
    "import itertools\n",
    "from collections import Counter\n",
    "\n",
    "def analyze_covering_set(covering_set, all_combinations):\n",
    "    correct_counts = Counter()\n",
    "\n",
    "    for combo in all_combinations:\n",
    "        max_correct = 0\n",
    "        for ticket in covering_set:\n",
    "            correct = sum(a == b for a, b in zip(ticket, combo))\n",
    "            max_correct = max(max_correct, correct)\n",
    "        correct_counts[max_correct] += 1\n",
    "\n",
    "    result = correct_counts\n",
    "    for correct, count in sorted(result.items()):\n",
    "        print(f\"Combinations with {correct} correct: {count} {round(100*count/len(all_combinations), 2)}% \")\n",
    "\n",
    "    return \"Finished.\"\n",
    "\n",
    "# Example usage\n",
    "# covering_set = [\n",
    "#     ('1', '1', '1', '1', '1'),\n",
    "#     ('X', 'X', 'X', 'X', 'X'),\n",
    "#     ('2', '2', '2', '2', '2'),\n",
    "#     ('1', '1', '1', 'X', '2'),\n",
    "#     ('X', 'X', '1', '2', '2')\n",
    "# ]\n",
    "# Vi använder covering_set från ovan istället!\n",
    "\n",
    "# Generera alla kombinationer möjliga på 5 matcher\n",
    "## all_combinations = list(itertools.product('1X2', repeat=5))\n",
    "# Använd all combinations från ovan!\n",
    "\n",
    "#result = analyze_covering_set(covering_set, all_combinations)\n",
    "\n",
    "# Display the results\n",
    "#for correct, count in sorted(result.items()):\n",
    "#    print(f\"Combinations with {correct} correct: {count} {round(100*count/len(all_combinations), 2)}% \")\n"
   ]
  },
  {
   "cell_type": "code",
   "execution_count": 60,
   "id": "3ff07af8-7c28-4588-9901-3cf6b68fdbda",
   "metadata": {},
   "outputs": [],
   "source": [
    "# Fall nummer 1 : Det helt naiva sättet - \n",
    "# Vi räknar ut hur många av M matcher vi får 4 rätt på.\n",
    "\n",
    "covering_set = []\n",
    "all_combinations = list(itertools.product('1X2', repeat=5))\n",
    "\n",
    "covered_combinations = set()\n",
    "\n",
    "while len(covered_combinations) < len(all_combinations):\n",
    "    best_ticket = None\n",
    "    max_new_covered = 0\n",
    "    \n",
    "    # Generate a candidate ticket\n",
    "    for candidate in all_combinations:\n",
    "        new_covered = sum(1 for combo in all_combinations \n",
    "                          if combo not in covered_combinations \n",
    "                          and sum(a == b for a, b in zip(candidate, combo)) >= 4)\n",
    "        \n",
    "        if new_covered > max_new_covered:\n",
    "            max_new_covered = new_covered\n",
    "            best_ticket = candidate\n",
    "    \n",
    "    if best_ticket:\n",
    "        covering_set.append(best_ticket)\n",
    "        for combo in all_combinations:\n",
    "            if sum(a == b for a, b in zip(best_ticket, combo)) >= 4:\n",
    "                covered_combinations.add(combo)\n"
   ]
  },
  {
   "cell_type": "code",
   "execution_count": 61,
   "id": "aa6c7c65-4066-434c-9059-33806bf969f5",
   "metadata": {},
   "outputs": [],
   "source": [
    "# Utvärdera"
   ]
  },
  {
   "cell_type": "code",
   "execution_count": 63,
   "id": "7e393c0f-f4cb-4776-99f0-7ee95df421fe",
   "metadata": {},
   "outputs": [
    {
     "name": "stdout",
     "output_type": "stream",
     "text": [
      "Combinations with 4 correct: 212 87.24% \n",
      "Combinations with 5 correct: 31 12.76% \n"
     ]
    },
    {
     "data": {
      "text/plain": [
       "'Finished.'"
      ]
     },
     "execution_count": 63,
     "metadata": {},
     "output_type": "execute_result"
    }
   ],
   "source": [
    "analyze_covering_set(covering_set, all_combinations)"
   ]
  },
  {
   "cell_type": "code",
   "execution_count": null,
   "id": "d86a21bc-620a-414a-a796-47225b332312",
   "metadata": {},
   "outputs": [],
   "source": [
    "# Om vi har vissa utfall omöjliga så måste vi berätta det"
   ]
  },
  {
   "cell_type": "code",
   "execution_count": 64,
   "id": "bee2d44d-2306-47cf-8d1d-d18f2b001daf",
   "metadata": {},
   "outputs": [
    {
     "name": "stdout",
     "output_type": "stream",
     "text": [
      "Number of tickets in covering set: 118\n",
      "('1', '1', '1', '1', '1', '1', '1')\n",
      "('1', '1', '1', '1', 'X', 'X', 'X')\n",
      "('1', '1', '1', 'X', '1', '2', 'X')\n",
      "('1', '1', '1', 'X', '2', 'X', '1')\n",
      "('1', '1', '1', '2', 'X', '2', '1')\n",
      "Combinations with 6 correct: 854 87.86% \n",
      "Combinations with 7 correct: 118 12.14% \n"
     ]
    },
    {
     "data": {
      "text/plain": [
       "'Finished.'"
      ]
     },
     "execution_count": 64,
     "metadata": {},
     "output_type": "execute_result"
    }
   ],
   "source": [
    "# Fall nummer 2 : ta bort vissa utfall från några av matcherna.\n",
    "# Generera rader som täcker in n av M möjliga.\n",
    "# constrained = färre möjliga rader tas in från början.\n",
    "# \n",
    "\n",
    "import itertools\n",
    "\n",
    "def generate_constrained_combinations(game_constraints):\n",
    "    return list(itertools.product(*[constraints for constraints in game_constraints]))\n",
    "\n",
    "def generate_covering_set(game_constraints, guarantee):\n",
    "    all_combinations = generate_constrained_combinations(game_constraints)\n",
    "    covering_set = []\n",
    "    covered_combinations = set()\n",
    "\n",
    "    while len(covered_combinations) < len(all_combinations):\n",
    "        best_ticket = None\n",
    "        max_new_covered = 0\n",
    "        # new_covered --> antal träffar som en ticket har som bäst mot alla kombinationer... men minus redan täckta kombinationer.\n",
    "        for candidate in all_combinations:\n",
    "            new_covered = sum(1 for combo in all_combinations \n",
    "                              if combo not in covered_combinations \n",
    "                              and sum(a == b for a, b in zip(candidate, combo)) >= guarantee)\n",
    "            \n",
    "            if new_covered > max_new_covered:\n",
    "                max_new_covered = new_covered\n",
    "                best_ticket = candidate\n",
    "\n",
    "        # Behåll alla tickets som täcker tillräckligt mycket - dessa behöver vi inte jämföra mot igen...\n",
    "        if best_ticket:\n",
    "            covering_set.append(best_ticket)\n",
    "            for combo in all_combinations:\n",
    "                if sum(a == b for a, b in zip(best_ticket, combo)) >= guarantee:\n",
    "                    covered_combinations.add(combo)\n",
    "        else:\n",
    "            break  # No more tickets can improve coverage\n",
    "\n",
    "    return covering_set\n",
    "\n",
    "# Example usage\n",
    "game_constraints = [\n",
    "    ('1', '2'),  # Game 1: Only 1 and 2 are possible\n",
    "    ('1', 'X', '2'),  # Game 2: All outcomes possible\n",
    "    ('1', 'X', '2'),  # Game 3: All outcomes possible\n",
    "    ('1', 'X', '2'),  # Game 4: All outcomes possible\n",
    "    ('1', 'X', '2'),  # Game 4: All outcomes possible\n",
    "    ('1', 'X', '2'),  # Game 4: All outcomes possible\n",
    "    ('1', 'X')   #\n",
    "]\n",
    "all_combinations =  generate_constrained_combinations(game_constraints)\n",
    "\n",
    "\n",
    "\n",
    "covering_set = generate_covering_set(game_constraints, 6)\n",
    "print(f\"Number of tickets in covering set: {len(covering_set)}\")\n",
    "for ticket in covering_set[:5]:\n",
    "    print(ticket)\n",
    "\n",
    "analyze_covering_set(covering_set, all_combinations)\n"
   ]
  },
  {
   "cell_type": "code",
   "execution_count": 56,
   "id": "1f1c3d77-b3b4-46bb-b255-693da42482ee",
   "metadata": {},
   "outputs": [],
   "source": [
    "all_combinations =  generate_constrained_combinations(game_constraints)\n"
   ]
  },
  {
   "cell_type": "code",
   "execution_count": 58,
   "id": "e3d54c9c-c4b4-40dc-9fe4-06c668179721",
   "metadata": {},
   "outputs": [
    {
     "data": {
      "text/plain": [
       "972"
      ]
     },
     "execution_count": 58,
     "metadata": {},
     "output_type": "execute_result"
    }
   ],
   "source": [
    "len(all_combinations)"
   ]
  },
  {
   "cell_type": "code",
   "execution_count": 2,
   "id": "bb566707-892b-44a4-b491-019427938e58",
   "metadata": {
    "jp-MarkdownHeadingCollapsed": true
   },
   "outputs": [
    {
     "name": "stdout",
     "output_type": "stream",
     "text": [
      "243\n"
     ]
    }
   ],
   "source": [
    "print(123+15+87+18)"
   ]
  },
  {
   "cell_type": "code",
   "execution_count": 8,
   "id": "b0b2c308-0069-48da-8b33-98641063d620",
   "metadata": {},
   "outputs": [],
   "source": [
    "import random\n",
    "from collections import Counter\n",
    "\n",
    "# def convert_odds_to_probabilities:\n",
    "# Vi matar in odds, men behöver konvertera till sannolikheter.\n",
    "\n",
    "def convert_odds_to_probabilities(odds):\n",
    "    \"\"\"\n",
    "    Convert triplet of odds, to triplets of probabilites.\n",
    "\n",
    "    Parameters:\n",
    "    - odds (list): A list of usually 13 items, and each item is a set of 3 odds (1..inf)\n",
    "\n",
    "    Returns:\n",
    "    - list: List same length as input, each item a set of 3 probabilies that sum to 1\n",
    "    \"\"\"    \n",
    "    probabilities = []\n",
    "    for match in odds:\n",
    "        total = sum(1/odd for odd in match)\n",
    "        probabilities.append(tuple((1/odd)/total for odd in match))\n",
    "    return probabilities\n",
    "\n",
    "\n",
    "import numpy as np\n",
    "\n",
    "def generate_probable_outcomes(match_probabilities, num_samples=10000):\n",
    "    \"\"\"\n",
    "    Sampla montecarlo-style från sannolikheterna för 1X2 i varje match.\n",
    "    Vanligtvis 13 matcher samplas som om de spelas på nytt.\n",
    "\n",
    "    Parameters:\n",
    "    - match_probabilities (list): Lista med 13 items, varje item ett tuple m 3 probabilities (0..1)\n",
    "    - num_samples (int) : Antal samples som genereras.\n",
    "\n",
    "    Returns:\n",
    "    - list: Lista, längd 'num_samples', varje item är ett tuple m 13 samplade utfall (1, X or 2)\n",
    "    \"\"\"    \n",
    "    \n",
    "    num_matches = len(match_probabilities)\n",
    "    # outcomes: Array with 2 dimesions (samples * num of matches). <U1 = unicode string length1.\n",
    "    outcomes = np.empty((num_samples, num_matches), dtype='<U1') # row = sample (num_samples), column = match number.\n",
    "\n",
    "    for i in range(num_matches):\n",
    "        outcomes[:, i] = np.random.choice(['1', 'X', '2'], size=num_samples, p=match_probabilities[i]) # Into i:th column, sample all matches.\n",
    "        # Assume independence and sample all matches in one go.\n",
    "\n",
    "    outcomes_list = [tuple(map(str, outcome)) for outcome in outcomes] # Map-steget onödigt. (for outcome...) tar en hel 'rad'.\n",
    "    return outcomes_list # Blir en lista lång som antal rader num_samples...\n",
    "\n",
    "\n",
    "\n",
    "# Greedy algorithm for building the covering set.\n",
    "def generate_covering_set(probable_combinations, guarantee):\n",
    "    print(\"generate_covering_set\")\n",
    "    covering_set = []\n",
    "    covered_combinations = set()\n",
    "    \n",
    "    # Continue until every outcome in the probable sample is covered.\n",
    "    while len(covered_combinations) < len(probable_combinations):\n",
    "        best_ticket = None\n",
    "        max_new_covered = 0\n",
    "        \n",
    "        # Evaluate each candidate ticket from the probable outcomes\n",
    "        for candidate in probable_combinations:\n",
    "            new_covered = sum(\n",
    "                1 for outcome in probable_combinations\n",
    "                if outcome not in covered_combinations and sum(a == b for a, b in zip(candidate, outcome)) >= guarantee\n",
    "            )\n",
    "            \n",
    "            if new_covered > max_new_covered:\n",
    "                max_new_covered = new_covered\n",
    "                best_ticket = candidate\n",
    "                print('.', end = '') # Skriv ut en progress\n",
    "        \n",
    "        if best_ticket:\n",
    "            covering_set.append(best_ticket)\n",
    "            for outcome in probable_combinations:\n",
    "                if sum(a == b for a, b in zip(best_ticket, outcome)) >= guarantee:\n",
    "                    covered_combinations.add(outcome)\n",
    "        else:\n",
    "            break  # No candidate can add new coverage; exit loop.\n",
    "    return covering_set\n",
    "\n",
    "\n",
    "# Utvärdera om dom genererade outcomes, faktiskt innehåller sant utfall\n",
    "def count_true_outcome_matches(true_tuple, generated_list):\n",
    "    \"\"\"\n",
    "    Hur många av ett set med match-resultat innehåller den sanna raden.\n",
    "\n",
    "    Parameters:\n",
    "    - true_tuple (tuple): En tuple med 13 items, varje item 1,X, el 2\n",
    "    - generated_list (list) : Lista med matcher att jämföra mot. \n",
    "\n",
    "    Returns:\n",
    "    - int: Antal gånger som true_tuple finns i listade matcher.\n",
    "    \"\"\"    \n",
    "    return sum(1 for generated_tuple in generated_list if generated_tuple == true_tuple)"
   ]
  },
  {
   "cell_type": "code",
   "execution_count": null,
   "id": "e172fa96-8636-4d43-a1ef-9ae9b848faac",
   "metadata": {},
   "outputs": [],
   "source": [
    "    \n",
    "# Example usage:\n",
    "# Assume each match has probabilities. For example, for 15 matches, you may have:\n",
    "# Each tuple corresponds to the weights for outcomes '1', 'X', '2' respectively.\n",
    "\n",
    "# Vi tar lördag 15/2, 2025 , vecka 7\n",
    "match_odds = [\n",
    "    ( 1.96, 3.14, 4.46  ), # Crystal Palace - Everton\n",
    "    (2.04, 3.94, 3.25  ),  # Man City  - Newcastle\n",
    "    (1.41, 4.75, 7.09  ),  # Aston Villa - Ipswich\n",
    "    (2.14, 3.36, 3.46   ), # Fulham - Nottingham\n",
    "    (2.35, 3.59, 2.88   ), # West Ham - Brentford\n",
    "    (5.86 , 4.51 , 1.50 ), # Southampton - Bournemouth\n",
    "    (1.83 , 3.56 , 4.33 ), # Blackburn - Plymouth\n",
    "    ( 2.42, 3.34 , 2.87 ), # Hull - Norwich\n",
    "    (2.80 , 3.21 , 2.55 ), # Luton - Sheffield U https://www.oddsportal.com/football/england/premier-league/west-ham-brentford-CMnhLYoL/\n",
    "    ( 1.59, 4.04 , 5.29 ), # Middlesbrough - Watford\n",
    "    ( 2.78, 2.96 , 2.78 ), # Millwall - W.B.A.\n",
    "    ( 2.32, 3.34 , 3.04 ), # Sheffield Wednesday - Coventry\n",
    "    ( 2.39, 3.28 , 2.98 ), # Stoke - Swansea    \n",
    "]\n",
    "\n",
    "# Korrekt rad\n",
    "true_outcome = ('2', '1', 'X', '1', '2', '2', '1', 'X', '2', '2', 'X', '2', '1')\n",
    "\n",
    "match_probabilities = convert_odds_to_probabilities(match_odds)\n",
    "## print(match_probabilities)"
   ]
  },
  {
   "cell_type": "code",
   "execution_count": null,
   "id": "37499825-3b20-4ecf-937f-3fbdd5721c18",
   "metadata": {},
   "outputs": [
    {
     "name": "stdout",
     "output_type": "stream",
     "text": [
      "start : 2025-03-01 14:07:51.583612\n",
      "done : 2025-03-01 14:07:57.397660\n",
      "('1', '1', '1', 'X', 'X', '2', 'X', 'X', '1', 'X', '2', '1', '2')\n"
     ]
    }
   ],
   "source": [
    "# Generate the 10,000 most probable outcomes.\n",
    "print(f'start : {str(datetime.datetime.now())}' )\n",
    "probable_combinations = generate_probable_outcomes(match_probabilities, num_samples=1000000)\n",
    "probable_combinations = generate_probable_outcomes()\n",
    "\n",
    "print(f'done : {str(datetime.datetime.now())}' )\n",
    "\n",
    "\n",
    "print(probable_combinations[0])\n",
    "# Har vi träffat korrekta raden ? \n",
    "#print(true_outcome in probable_combinations)"
   ]
  },
  {
   "cell_type": "code",
   "execution_count": 138,
   "id": "53236120-b6a6-4a1c-9c1e-824e46b6105a",
   "metadata": {},
   "outputs": [
    {
     "name": "stdout",
     "output_type": "stream",
     "text": [
      "107170\n",
      "1000000\n",
      "32\n"
     ]
    }
   ],
   "source": [
    "match_p_with_spik = [\n",
    "    (0, 0, 1),\n",
    " (0.46610076949396856, 0.241331362885202, 0.29256786762082954),\n",
    " (0.6685771233564745, 0.19846184082792187, 0.13296103581560353),\n",
    " (0.44337996369239213, 0.282390810208845, 0.2742292260987628),\n",
    " (0.404765167144932, 0.26495769994166857, 0.3302771329133994),\n",
    " (0.16113434769767243, 0.209367467296754, 0.6294981850055736),\n",
    " (0.5163481668816051, 0.26542616443633077, 0.21822566868206406),\n",
    " (0.3894450312830096, 0.28217274721703095, 0.3283822214999593),\n",
    " (0.33666481584305014, 0.293664013819483, 0.3696711703374669),\n",
    " (0.50, 0, 0.50),\n",
    " (0, 1, 0),\n",
    " (0.406873116624992, 0.28261845226646154, 0.31050843110854653),\n",
    " (0.395151965976439, 0.28793085325722234, 0.3169171807663387)]\n",
    "\n",
    "test_of_spik = generate_probable_outcomes(match_p_with_spik, num_samples=1000000)\n",
    "print(len(set(test_of_spik)))\n",
    "print(len(test_of_spik))\n",
    "print(count_true_outcome_matches(true_tuple=true_outcome, generated_list=test_of_spik))"
   ]
  },
  {
   "cell_type": "code",
   "execution_count": 156,
   "id": "435278ca-b169-430a-8ab2-41b70457a75c",
   "metadata": {},
   "outputs": [],
   "source": [
    "trythisset = set(test_of_spik[0:10000])"
   ]
  },
  {
   "cell_type": "code",
   "execution_count": 157,
   "id": "1adb31e6-4f91-4c53-a4e3-8e3adaafb169",
   "metadata": {},
   "outputs": [
    {
     "data": {
      "text/plain": [
       "8926"
      ]
     },
     "execution_count": 157,
     "metadata": {},
     "output_type": "execute_result"
    }
   ],
   "source": [
    "len(trythisset)"
   ]
  },
  {
   "cell_type": "code",
   "execution_count": 158,
   "id": "9a8d4c8a-d0ec-4153-9aca-629eb813025c",
   "metadata": {},
   "outputs": [
    {
     "name": "stdout",
     "output_type": "stream",
     "text": [
      "generate_covering_set\n",
      "....."
     ]
    },
    {
     "ename": "KeyboardInterrupt",
     "evalue": "",
     "output_type": "error",
     "traceback": [
      "\u001b[0;31m---------------------------------------------------------------------------\u001b[0m",
      "\u001b[0;31mKeyboardInterrupt\u001b[0m                         Traceback (most recent call last)",
      "Cell \u001b[0;32mIn[158], line 1\u001b[0m\n\u001b[0;32m----> 1\u001b[0m covset \u001b[38;5;241m=\u001b[39m \u001b[43mgenerate_covering_set\u001b[49m\u001b[43m(\u001b[49m\u001b[43mprobable_combinations\u001b[49m\u001b[38;5;241;43m=\u001b[39;49m\u001b[43mtrythisset\u001b[49m\u001b[43m,\u001b[49m\u001b[43m \u001b[49m\u001b[43mguarantee\u001b[49m\u001b[38;5;241;43m=\u001b[39;49m\u001b[38;5;241;43m3\u001b[39;49m\u001b[43m)\u001b[49m\n",
      "Cell \u001b[0;32mIn[153], line 53\u001b[0m, in \u001b[0;36mgenerate_covering_set\u001b[0;34m(probable_combinations, guarantee)\u001b[0m\n\u001b[1;32m     51\u001b[0m \u001b[38;5;66;03m# Evaluate each candidate ticket from the probable outcomes\u001b[39;00m\n\u001b[1;32m     52\u001b[0m \u001b[38;5;28;01mfor\u001b[39;00m candidate \u001b[38;5;129;01min\u001b[39;00m probable_combinations:\n\u001b[0;32m---> 53\u001b[0m     new_covered \u001b[38;5;241m=\u001b[39m \u001b[38;5;28;43msum\u001b[39;49m\u001b[43m(\u001b[49m\n\u001b[1;32m     54\u001b[0m \u001b[43m        \u001b[49m\u001b[38;5;241;43m1\u001b[39;49m\u001b[43m \u001b[49m\u001b[38;5;28;43;01mfor\u001b[39;49;00m\u001b[43m \u001b[49m\u001b[43moutcome\u001b[49m\u001b[43m \u001b[49m\u001b[38;5;129;43;01min\u001b[39;49;00m\u001b[43m \u001b[49m\u001b[43mprobable_combinations\u001b[49m\n\u001b[1;32m     55\u001b[0m \u001b[43m        \u001b[49m\u001b[38;5;28;43;01mif\u001b[39;49;00m\u001b[43m \u001b[49m\u001b[43moutcome\u001b[49m\u001b[43m \u001b[49m\u001b[38;5;129;43;01mnot\u001b[39;49;00m\u001b[43m \u001b[49m\u001b[38;5;129;43;01min\u001b[39;49;00m\u001b[43m \u001b[49m\u001b[43mcovered_combinations\u001b[49m\u001b[43m \u001b[49m\u001b[38;5;129;43;01mand\u001b[39;49;00m\u001b[43m \u001b[49m\u001b[38;5;28;43msum\u001b[39;49m\u001b[43m(\u001b[49m\u001b[43ma\u001b[49m\u001b[43m \u001b[49m\u001b[38;5;241;43m==\u001b[39;49m\u001b[43m \u001b[49m\u001b[43mb\u001b[49m\u001b[43m \u001b[49m\u001b[38;5;28;43;01mfor\u001b[39;49;00m\u001b[43m \u001b[49m\u001b[43ma\u001b[49m\u001b[43m,\u001b[49m\u001b[43m \u001b[49m\u001b[43mb\u001b[49m\u001b[43m \u001b[49m\u001b[38;5;129;43;01min\u001b[39;49;00m\u001b[43m \u001b[49m\u001b[38;5;28;43mzip\u001b[39;49m\u001b[43m(\u001b[49m\u001b[43mcandidate\u001b[49m\u001b[43m,\u001b[49m\u001b[43m \u001b[49m\u001b[43moutcome\u001b[49m\u001b[43m)\u001b[49m\u001b[43m)\u001b[49m\u001b[43m \u001b[49m\u001b[38;5;241;43m>\u001b[39;49m\u001b[38;5;241;43m=\u001b[39;49m\u001b[43m \u001b[49m\u001b[43mguarantee\u001b[49m\n\u001b[1;32m     56\u001b[0m \u001b[43m    \u001b[49m\u001b[43m)\u001b[49m\n\u001b[1;32m     58\u001b[0m     \u001b[38;5;28;01mif\u001b[39;00m new_covered \u001b[38;5;241m>\u001b[39m max_new_covered:\n\u001b[1;32m     59\u001b[0m         max_new_covered \u001b[38;5;241m=\u001b[39m new_covered\n",
      "Cell \u001b[0;32mIn[153], line 55\u001b[0m, in \u001b[0;36m<genexpr>\u001b[0;34m(.0)\u001b[0m\n\u001b[1;32m     51\u001b[0m \u001b[38;5;66;03m# Evaluate each candidate ticket from the probable outcomes\u001b[39;00m\n\u001b[1;32m     52\u001b[0m \u001b[38;5;28;01mfor\u001b[39;00m candidate \u001b[38;5;129;01min\u001b[39;00m probable_combinations:\n\u001b[1;32m     53\u001b[0m     new_covered \u001b[38;5;241m=\u001b[39m \u001b[38;5;28msum\u001b[39m(\n\u001b[1;32m     54\u001b[0m         \u001b[38;5;241m1\u001b[39m \u001b[38;5;28;01mfor\u001b[39;00m outcome \u001b[38;5;129;01min\u001b[39;00m probable_combinations\n\u001b[0;32m---> 55\u001b[0m         \u001b[38;5;28;01mif\u001b[39;00m outcome \u001b[38;5;129;01mnot\u001b[39;00m \u001b[38;5;129;01min\u001b[39;00m covered_combinations \u001b[38;5;129;01mand\u001b[39;00m \u001b[38;5;28;43msum\u001b[39;49m\u001b[43m(\u001b[49m\u001b[43ma\u001b[49m\u001b[43m \u001b[49m\u001b[38;5;241;43m==\u001b[39;49m\u001b[43m \u001b[49m\u001b[43mb\u001b[49m\u001b[43m \u001b[49m\u001b[38;5;28;43;01mfor\u001b[39;49;00m\u001b[43m \u001b[49m\u001b[43ma\u001b[49m\u001b[43m,\u001b[49m\u001b[43m \u001b[49m\u001b[43mb\u001b[49m\u001b[43m \u001b[49m\u001b[38;5;129;43;01min\u001b[39;49;00m\u001b[43m \u001b[49m\u001b[38;5;28;43mzip\u001b[39;49m\u001b[43m(\u001b[49m\u001b[43mcandidate\u001b[49m\u001b[43m,\u001b[49m\u001b[43m \u001b[49m\u001b[43moutcome\u001b[49m\u001b[43m)\u001b[49m\u001b[43m)\u001b[49m \u001b[38;5;241m>\u001b[39m\u001b[38;5;241m=\u001b[39m guarantee\n\u001b[1;32m     56\u001b[0m     )\n\u001b[1;32m     58\u001b[0m     \u001b[38;5;28;01mif\u001b[39;00m new_covered \u001b[38;5;241m>\u001b[39m max_new_covered:\n\u001b[1;32m     59\u001b[0m         max_new_covered \u001b[38;5;241m=\u001b[39m new_covered\n",
      "Cell \u001b[0;32mIn[153], line 55\u001b[0m, in \u001b[0;36m<genexpr>\u001b[0;34m(.0)\u001b[0m\n\u001b[1;32m     51\u001b[0m \u001b[38;5;66;03m# Evaluate each candidate ticket from the probable outcomes\u001b[39;00m\n\u001b[1;32m     52\u001b[0m \u001b[38;5;28;01mfor\u001b[39;00m candidate \u001b[38;5;129;01min\u001b[39;00m probable_combinations:\n\u001b[1;32m     53\u001b[0m     new_covered \u001b[38;5;241m=\u001b[39m \u001b[38;5;28msum\u001b[39m(\n\u001b[1;32m     54\u001b[0m         \u001b[38;5;241m1\u001b[39m \u001b[38;5;28;01mfor\u001b[39;00m outcome \u001b[38;5;129;01min\u001b[39;00m probable_combinations\n\u001b[0;32m---> 55\u001b[0m         \u001b[38;5;28;01mif\u001b[39;00m outcome \u001b[38;5;129;01mnot\u001b[39;00m \u001b[38;5;129;01min\u001b[39;00m covered_combinations \u001b[38;5;129;01mand\u001b[39;00m \u001b[38;5;28msum\u001b[39m(a \u001b[38;5;241m==\u001b[39m b \u001b[38;5;28;01mfor\u001b[39;00m a, b \u001b[38;5;129;01min\u001b[39;00m \u001b[38;5;28mzip\u001b[39m(candidate, outcome)) \u001b[38;5;241m>\u001b[39m\u001b[38;5;241m=\u001b[39m guarantee\n\u001b[1;32m     56\u001b[0m     )\n\u001b[1;32m     58\u001b[0m     \u001b[38;5;28;01mif\u001b[39;00m new_covered \u001b[38;5;241m>\u001b[39m max_new_covered:\n\u001b[1;32m     59\u001b[0m         max_new_covered \u001b[38;5;241m=\u001b[39m new_covered\n",
      "\u001b[0;31mKeyboardInterrupt\u001b[0m: "
     ]
    }
   ],
   "source": [
    "covset = generate_covering_set(probable_combinations=trythisset, guarantee=3)"
   ]
  },
  {
   "cell_type": "code",
   "execution_count": 148,
   "id": "dfc67fc2-a4ec-4a1c-9651-cd41b450a798",
   "metadata": {},
   "outputs": [
    {
     "data": {
      "text/plain": [
       "0"
      ]
     },
     "execution_count": 148,
     "metadata": {},
     "output_type": "execute_result"
    }
   ],
   "source": [
    "count_true_outcome_matches(true_tuple = true_outcome, generated_list = covset)"
   ]
  },
  {
   "cell_type": "code",
   "execution_count": 134,
   "id": "1824ade5-52cf-44e4-8af7-211b6d9c3f17",
   "metadata": {},
   "outputs": [
    {
     "data": {
      "text/plain": [
       "[(0.4845746079639036, 0.3024733221685513, 0.21295206986754509),\n",
       " (0.46610076949396856, 0.241331362885202, 0.29256786762082954),\n",
       " (0.6685771233564745, 0.19846184082792187, 0.13296103581560353),\n",
       " (0.44337996369239213, 0.282390810208845, 0.2742292260987628),\n",
       " (0.404765167144932, 0.26495769994166857, 0.3302771329133994),\n",
       " (0.16113434769767243, 0.209367467296754, 0.6294981850055736),\n",
       " (0.5163481668816051, 0.26542616443633077, 0.21822566868206406),\n",
       " (0.3894450312830096, 0.28217274721703095, 0.3283822214999593),\n",
       " (0.33666481584305014, 0.293664013819483, 0.3696711703374669),\n",
       " (0.5902729635450185, 0.23231039901895528, 0.17741663743602634),\n",
       " (0.34022988505747126, 0.3195402298850574, 0.34022988505747126),\n",
       " (0.406873116624992, 0.28261845226646154, 0.31050843110854653),\n",
       " (0.395151965976439, 0.28793085325722234, 0.3169171807663387)]"
      ]
     },
     "execution_count": 134,
     "metadata": {},
     "output_type": "execute_result"
    }
   ],
   "source": [
    "match_probabilities"
   ]
  },
  {
   "cell_type": "code",
   "execution_count": 130,
   "id": "af5940f1-da04-4f8c-9b56-dbe6ec93d9b7",
   "metadata": {},
   "outputs": [
    {
     "name": "stdout",
     "output_type": "stream",
     "text": [
      "\n",
      " n = 200000\n",
      "i=1 i=2 i=3 i=4 i=5 i=6 i=7 i=8 i=9 i=10 i=11 i=12 i=13 i=14 i=15 i=16 i=17 i=18 i=19 \n",
      " n = 500000\n",
      "i=1 i=2 i=3 i=4 i=5 i=6 i=7 i=8 i=9 i=10 i=11 i=12 i=13 i=14 i=15 i=16 i=17 i=18 i=19 \n",
      " n = 800000\n",
      "i=1 i=2 i=3 i=4 i=5 i=6 i=7 i=8 i=9 i=10 i=11 i=12 i=13 i=14 i=15 i=16 i=17 i=18 i=19 \n",
      " n = 2000000\n",
      "i=1 i=2 i=3 i=4 i=5 i=6 i=7 i=8 i=9 i=10 i=11 i=12 i=13 i=14 i=15 i=16 i=17 i=18 i=19 \n",
      " n = 4000000\n",
      "i=1 i=2 i=3 i=4 i=5 i=6 i=7 i=8 i=9 i=10 i=11 i=12 i=13 i=14 i=15 i=16 i=17 i=18 i=19 \n",
      " n = 6000000\n",
      "i=1 i=2 i=3 i=4 i=5 i=6 i=7 i=8 i=9 i=10 i=11 i=12 i=13 i=14 i=15 i=16 i=17 i=18 i=19 "
     ]
    }
   ],
   "source": [
    "# Kör igenom med N = 200 000 till 6M\n",
    "# Ta 20 stycken per N. \n",
    "# Räkna antal unika kombinationer.\n",
    "# Träffar vi true outcome ?  \n",
    "\n",
    "N_samples = (200000, 500000, 800000, 2000000, 4000000, 6000000)\n",
    "# N_samples = (200, 500, 800)\n",
    "B = 20\n",
    "res = list()\n",
    "for n in N_samples:\n",
    "    print(f\"\\n n = {n}\")\n",
    "    for i in range(B):\n",
    "        print(f\"i={i}\", end = ' ')\n",
    "        probable_combinations = generate_probable_outcomes(match_probabilities, num_samples=n)\n",
    "        truematch = count_true_outcome_matches(true_outcome, probable_combinations)\n",
    "        res.append( (n, i, (truematch>0)*1, len(set(probable_combinations)) ) )\n",
    "        "
   ]
  },
  {
   "cell_type": "code",
   "execution_count": 131,
   "id": "c8e0d55d-3cb0-48fa-bcb0-d21e1d8a923d",
   "metadata": {},
   "outputs": [
    {
     "data": {
      "text/plain": [
       "{200000: {'percent_ones': 10.0, 'avg_unique': 161345.6},\n",
       " 500000: {'percent_ones': 20.0, 'avg_unique': 326918.8},\n",
       " 800000: {'percent_ones': 35.0, 'avg_unique': 448394.2},\n",
       " 2000000: {'percent_ones': 75.0, 'avg_unique': 747517.35},\n",
       " 4000000: {'percent_ones': 85.0, 'avg_unique': 999267.4},\n",
       " 6000000: {'percent_ones': 100.0, 'avg_unique': 1140389.35}}"
      ]
     },
     "execution_count": 131,
     "metadata": {},
     "output_type": "execute_result"
    }
   ],
   "source": [
    "\n",
    "calculate_percentages(res)\n",
    "\n",
    "\n",
    "# {200000: {'percent_ones': 10.0, 'avg_unique': 161345.6},\n",
    "#  500000: {'percent_ones': 20.0, 'avg_unique': 326918.8},\n",
    "#  800000: {'percent_ones': 35.0, 'avg_unique': 448394.2},\n",
    "#  2000000: {'percent_ones': 75.0, 'avg_unique': 747517.35},\n",
    "#  4000000: {'percent_ones': 85.0, 'avg_unique': 999267.4},\n",
    "#  6000000: {'percent_ones': 100.0, 'avg_unique': 1140389.35}}\n",
    "\n"
   ]
  },
  {
   "cell_type": "code",
   "execution_count": 121,
   "id": "ef659b27-5f87-456a-924e-a2284c2205a6",
   "metadata": {},
   "outputs": [
    {
     "data": {
      "text/plain": [
       "{200000: {'percent_ones': 15.0, 'avg_unique': 161321.1},\n",
       " 500000: {'percent_ones': 5.0, 'avg_unique': 326947.7},\n",
       " 800000: {'percent_ones': 60.0, 'avg_unique': 448388.55}}"
      ]
     },
     "execution_count": 121,
     "metadata": {},
     "output_type": "execute_result"
    }
   ],
   "source": [
    "from collections import defaultdict\n",
    "\n",
    "def calculate_percentages(data):\n",
    "    # Dictionary to store counts of 0s and 1s for each first position\n",
    "    counts = defaultdict(lambda: {'total': 0, 'zeros': 0, 'ones': 0, 'u':0})\n",
    "\n",
    "    # Count occurrences\n",
    "    for first, _, third, fourth in data:\n",
    "        counts[first]['total'] += 1\n",
    "        counts[first]['ones'] += third\n",
    "        counts[first]['u'] += fourth\n",
    "        \n",
    "        \n",
    "        # if third == 0:\n",
    "        #     counts[first]['zeros'] += 1\n",
    "        # elif third == 1:\n",
    "        #     counts[first]['ones'] += 1\n",
    "\n",
    "    # Calculate percentages\n",
    "    percentages = {}\n",
    "    for first, count_dict in counts.items():\n",
    "        total = count_dict['total']\n",
    "        percentages[first] = {\n",
    "            #'percent_zeros': (count_dict['zeros'] / total) * 100,\n",
    "            'percent_ones': (count_dict['ones'] / total) * 100,\n",
    "            'avg_unique': (count_dict['u'] / total),\n",
    "        }\n",
    "\n",
    "    return percentages\n",
    "calculate_percentages(res)\n"
   ]
  },
  {
   "cell_type": "code",
   "execution_count": 72,
   "id": "3d0bc036-5664-49bf-9e7a-58d5cb3a8ac9",
   "metadata": {},
   "outputs": [],
   "source": [
    "myset = set(probable_combinations)\n"
   ]
  },
  {
   "cell_type": "code",
   "execution_count": 83,
   "id": "f8d13476-8d02-4cf0-a779-82329af382c6",
   "metadata": {},
   "outputs": [
    {
     "data": {
      "text/plain": [
       "(np.str_('1'),\n",
       " np.str_('1'),\n",
       " np.str_('1'),\n",
       " np.str_('X'),\n",
       " np.str_('2'),\n",
       " np.str_('X'),\n",
       " np.str_('2'),\n",
       " np.str_('1'),\n",
       " np.str_('X'),\n",
       " np.str_('1'),\n",
       " np.str_('X'),\n",
       " np.str_('1'),\n",
       " np.str_('1'))"
      ]
     },
     "execution_count": 83,
     "metadata": {},
     "output_type": "execute_result"
    }
   ],
   "source": [
    "probable_combinations[0] #== ('1', '1', '1', 'X', '2', 'X', '2', '1', 'X', '1', 'X', '1' '1')"
   ]
  },
  {
   "cell_type": "code",
   "execution_count": 80,
   "id": "56483b47-5d16-41dd-85dd-87792764993b",
   "metadata": {},
   "outputs": [
    {
     "data": {
      "text/plain": [
       "list"
      ]
     },
     "execution_count": 80,
     "metadata": {},
     "output_type": "execute_result"
    }
   ],
   "source": [
    "type(probable_combinations)"
   ]
  },
  {
   "cell_type": "code",
   "execution_count": 78,
   "id": "83db2d61-21e5-40b6-bf99-409e3d3cf1f6",
   "metadata": {},
   "outputs": [
    {
     "data": {
      "text/plain": [
       "set"
      ]
     },
     "execution_count": 78,
     "metadata": {},
     "output_type": "execute_result"
    }
   ],
   "source": [
    "type(myset)"
   ]
  },
  {
   "cell_type": "code",
   "execution_count": 39,
   "id": "ba782531-256e-4c79-af20-1a42799b26a8",
   "metadata": {},
   "outputs": [],
   "source": [
    "\n",
    "\n",
    "# spara undan \n",
    "composite_p = 1\n",
    "\n",
    "\n",
    "# \n",
    "for i, v in enumerate(true_outcome):\n",
    "    p = match_probabilities[i][('1', 'X', '2').index(v) ]\n",
    "    composite_p *= p\n"
   ]
  },
  {
   "cell_type": "code",
   "execution_count": 40,
   "id": "d624a6ef-3917-4892-ae4f-5dc735cbcbfb",
   "metadata": {},
   "outputs": [
    {
     "name": "stdout",
     "output_type": "stream",
     "text": [
      "6.803281984054306e-07\n"
     ]
    }
   ],
   "source": []
  },
  {
   "cell_type": "code",
   "execution_count": 40,
   "id": "63952f84-829f-4772-b6be-aeec063e4847",
   "metadata": {},
   "outputs": [
    {
     "name": "stdout",
     "output_type": "stream",
     "text": [
      "1. X X 1 1 1 2 1 2 X 1 X X 1\n",
      "\n",
      "2. X X 1 X X 2 1 1 2 1 1 2 2\n",
      "\n",
      "3. 1 1 1 X X 1 X X 2 1 1 1 1\n",
      "\n",
      "4. 2 1 1 1 1 2 1 1 2 2 2 X 2\n",
      "\n",
      "5. X 2 1 2 2 2 1 X X 1 X 1 X\n",
      "\n",
      "6. 2 1 X 1 X 2 X 2 X 2 1 1 1\n",
      "\n",
      "7. 2 2 1 2 2 2 X 1 X 1 X X X\n",
      "\n",
      "8. 1 2 X X X 2 1 1 2 2 2 1 2\n",
      "\n",
      "9. X 2 X 1 1 X X X 2 X 1 X X\n",
      "\n",
      "10. 1 2 1 2 2 2 1 X 2 X 2 X X\n",
      "\n"
     ]
    }
   ],
   "source": [
    "def print_tuple_list(tuple_list, items_per_line=1):\n",
    "    for i, t in enumerate(tuple_list):\n",
    "        print(f\"{i+1}. {' '.join(t)}\")\n",
    "        if (i + 1) % items_per_line == 0:\n",
    "            print()\n",
    "\n",
    "print_tuple_list(probable_combinations)"
   ]
  },
  {
   "cell_type": "code",
   "execution_count": 42,
   "id": "6c85bb79-b11f-4cb5-8299-de7e700d2a92",
   "metadata": {},
   "outputs": [
    {
     "name": "stdout",
     "output_type": "stream",
     "text": [
      "0\n"
     ]
    },
    {
     "ename": "KeyboardInterrupt",
     "evalue": "",
     "output_type": "error",
     "traceback": [
      "\u001b[0;31m---------------------------------------------------------------------------\u001b[0m",
      "\u001b[0;31mKeyboardInterrupt\u001b[0m                         Traceback (most recent call last)",
      "Cell \u001b[0;32mIn[42], line 8\u001b[0m\n\u001b[1;32m      5\u001b[0m \u001b[38;5;28mprint\u001b[39m(true_generated_combos)\n\u001b[1;32m      7\u001b[0m \u001b[38;5;66;03m# Build the covering set with a guarantee of, say, 13 correct predictions.\u001b[39;00m\n\u001b[0;32m----> 8\u001b[0m covering_set \u001b[38;5;241m=\u001b[39m \u001b[43mgenerate_covering_set\u001b[49m\u001b[43m(\u001b[49m\u001b[43mprobable_combinations\u001b[49m\u001b[43m,\u001b[49m\u001b[43m \u001b[49m\u001b[43mguarantee\u001b[49m\u001b[38;5;241;43m=\u001b[39;49m\u001b[38;5;241;43m13\u001b[39;49m\u001b[43m)\u001b[49m\n\u001b[1;32m     10\u001b[0m \u001b[38;5;28mprint\u001b[39m(\u001b[38;5;124m\"\u001b[39m\u001b[38;5;124mNumber of tickets in covering set:\u001b[39m\u001b[38;5;124m\"\u001b[39m, \u001b[38;5;28mlen\u001b[39m(covering_set))\n\u001b[1;32m     11\u001b[0m \u001b[38;5;66;03m# Optionally, analyze how well the covering set works against the generated probable outcomes.\u001b[39;00m\n",
      "Cell \u001b[0;32mIn[15], line 36\u001b[0m, in \u001b[0;36mgenerate_covering_set\u001b[0;34m(probable_combinations, guarantee)\u001b[0m\n\u001b[1;32m     34\u001b[0m \u001b[38;5;66;03m# Evaluate each candidate ticket from the probable outcomes\u001b[39;00m\n\u001b[1;32m     35\u001b[0m \u001b[38;5;28;01mfor\u001b[39;00m candidate \u001b[38;5;129;01min\u001b[39;00m probable_combinations:\n\u001b[0;32m---> 36\u001b[0m     new_covered \u001b[38;5;241m=\u001b[39m \u001b[38;5;28;43msum\u001b[39;49m\u001b[43m(\u001b[49m\n\u001b[1;32m     37\u001b[0m \u001b[43m        \u001b[49m\u001b[38;5;241;43m1\u001b[39;49m\u001b[43m \u001b[49m\u001b[38;5;28;43;01mfor\u001b[39;49;00m\u001b[43m \u001b[49m\u001b[43moutcome\u001b[49m\u001b[43m \u001b[49m\u001b[38;5;129;43;01min\u001b[39;49;00m\u001b[43m \u001b[49m\u001b[43mprobable_combinations\u001b[49m\n\u001b[1;32m     38\u001b[0m \u001b[43m        \u001b[49m\u001b[38;5;28;43;01mif\u001b[39;49;00m\u001b[43m \u001b[49m\u001b[43moutcome\u001b[49m\u001b[43m \u001b[49m\u001b[38;5;129;43;01mnot\u001b[39;49;00m\u001b[43m \u001b[49m\u001b[38;5;129;43;01min\u001b[39;49;00m\u001b[43m \u001b[49m\u001b[43mcovered_combinations\u001b[49m\u001b[43m \u001b[49m\u001b[38;5;129;43;01mand\u001b[39;49;00m\u001b[43m \u001b[49m\u001b[38;5;28;43msum\u001b[39;49m\u001b[43m(\u001b[49m\u001b[43ma\u001b[49m\u001b[43m \u001b[49m\u001b[38;5;241;43m==\u001b[39;49m\u001b[43m \u001b[49m\u001b[43mb\u001b[49m\u001b[43m \u001b[49m\u001b[38;5;28;43;01mfor\u001b[39;49;00m\u001b[43m \u001b[49m\u001b[43ma\u001b[49m\u001b[43m,\u001b[49m\u001b[43m \u001b[49m\u001b[43mb\u001b[49m\u001b[43m \u001b[49m\u001b[38;5;129;43;01min\u001b[39;49;00m\u001b[43m \u001b[49m\u001b[38;5;28;43mzip\u001b[39;49m\u001b[43m(\u001b[49m\u001b[43mcandidate\u001b[49m\u001b[43m,\u001b[49m\u001b[43m \u001b[49m\u001b[43moutcome\u001b[49m\u001b[43m)\u001b[49m\u001b[43m)\u001b[49m\u001b[43m \u001b[49m\u001b[38;5;241;43m>\u001b[39;49m\u001b[38;5;241;43m=\u001b[39;49m\u001b[43m \u001b[49m\u001b[43mguarantee\u001b[49m\n\u001b[1;32m     39\u001b[0m \u001b[43m    \u001b[49m\u001b[43m)\u001b[49m\n\u001b[1;32m     41\u001b[0m     \u001b[38;5;28;01mif\u001b[39;00m new_covered \u001b[38;5;241m>\u001b[39m max_new_covered:\n\u001b[1;32m     42\u001b[0m         max_new_covered \u001b[38;5;241m=\u001b[39m new_covered\n",
      "Cell \u001b[0;32mIn[15], line 38\u001b[0m, in \u001b[0;36m<genexpr>\u001b[0;34m(.0)\u001b[0m\n\u001b[1;32m     34\u001b[0m \u001b[38;5;66;03m# Evaluate each candidate ticket from the probable outcomes\u001b[39;00m\n\u001b[1;32m     35\u001b[0m \u001b[38;5;28;01mfor\u001b[39;00m candidate \u001b[38;5;129;01min\u001b[39;00m probable_combinations:\n\u001b[1;32m     36\u001b[0m     new_covered \u001b[38;5;241m=\u001b[39m \u001b[38;5;28msum\u001b[39m(\n\u001b[1;32m     37\u001b[0m         \u001b[38;5;241m1\u001b[39m \u001b[38;5;28;01mfor\u001b[39;00m outcome \u001b[38;5;129;01min\u001b[39;00m probable_combinations\n\u001b[0;32m---> 38\u001b[0m         \u001b[38;5;28;01mif\u001b[39;00m outcome \u001b[38;5;129;01mnot\u001b[39;00m \u001b[38;5;129;01min\u001b[39;00m covered_combinations \u001b[38;5;129;01mand\u001b[39;00m \u001b[38;5;28msum\u001b[39m(a \u001b[38;5;241m==\u001b[39m b \u001b[38;5;28;01mfor\u001b[39;00m a, b \u001b[38;5;129;01min\u001b[39;00m \u001b[38;5;28mzip\u001b[39m(candidate, outcome)) \u001b[38;5;241m>\u001b[39m\u001b[38;5;241m=\u001b[39m guarantee\n\u001b[1;32m     39\u001b[0m     )\n\u001b[1;32m     41\u001b[0m     \u001b[38;5;28;01mif\u001b[39;00m new_covered \u001b[38;5;241m>\u001b[39m max_new_covered:\n\u001b[1;32m     42\u001b[0m         max_new_covered \u001b[38;5;241m=\u001b[39m new_covered\n",
      "\u001b[0;31mKeyboardInterrupt\u001b[0m: "
     ]
    }
   ],
   "source": [
    "true_outcome = ('2', '1', 'X', '1', '2', '2', '1', 'X', '2', '2', 'X', '2', '1')\n",
    "# true_outcome = probable_combinations[0] ### fuska och sätt en befintlig genererad rad till den sanna raden\n",
    "\n",
    "true_generated_combos = count_true_outcome_matches(true_outcome, probable_combinations)\n",
    "print(true_generated_combos)\n",
    "\n",
    "# Build the covering set with a guarantee of, say, 13 correct predictions.\n",
    "covering_set = generate_covering_set(probable_combinations, guarantee=13)\n",
    "\n",
    "print(\"Number of tickets in covering set:\", len(covering_set))\n",
    "# Optionally, analyze how well the covering set works against the generated probable outcomes."
   ]
  },
  {
   "cell_type": "code",
   "execution_count": 24,
   "id": "196e76d6-9faf-4af1-a2d7-48636e25a30f",
   "metadata": {},
   "outputs": [
    {
     "name": "stdout",
     "output_type": "stream",
     "text": [
      "False\n"
     ]
    }
   ],
   "source": [
    "print(probable_combinations[0] == true_outcome)"
   ]
  },
  {
   "cell_type": "code",
   "execution_count": 30,
   "id": "2bef71ec-bee3-4bc0-90cf-1d191352bac2",
   "metadata": {},
   "outputs": [
    {
     "name": "stdout",
     "output_type": "stream",
     "text": [
      "('1', '1', 'X', '1', 'X', '2', '1', '1', 'X', 'X', '1', '2', '2')\n"
     ]
    }
   ],
   "source": [
    "print(probable_combinations[4])"
   ]
  },
  {
   "cell_type": "code",
   "execution_count": 26,
   "id": "d8ec75e6-aefc-4203-87e0-9d2c6ad9c76c",
   "metadata": {},
   "outputs": [
    {
     "name": "stdout",
     "output_type": "stream",
     "text": [
      "10\n"
     ]
    }
   ],
   "source": [
    "print(len(probable_combinations))"
   ]
  },
  {
   "cell_type": "code",
   "execution_count": 27,
   "id": "fd1448e0-f0fa-46dd-a7a5-79089a9a182a",
   "metadata": {},
   "outputs": [
    {
     "data": {
      "text/plain": [
       "False"
      ]
     },
     "execution_count": 27,
     "metadata": {},
     "output_type": "execute_result"
    }
   ],
   "source": [
    "probable_combinations == true_outcome"
   ]
  }
 ],
 "metadata": {
  "kernelspec": {
   "display_name": "Python 3 (ipykernel)",
   "language": "python",
   "name": "python3"
  },
  "language_info": {
   "codemirror_mode": {
    "name": "ipython",
    "version": 3
   },
   "file_extension": ".py",
   "mimetype": "text/x-python",
   "name": "python",
   "nbconvert_exporter": "python",
   "pygments_lexer": "ipython3",
   "version": "3.9.21"
  }
 },
 "nbformat": 4,
 "nbformat_minor": 5
}
